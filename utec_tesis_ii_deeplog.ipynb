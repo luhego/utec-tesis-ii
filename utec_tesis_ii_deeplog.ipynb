{
  "cells": [
    {
      "cell_type": "code",
      "source": [
        "!pip install spellpy"
      ],
      "metadata": {
        "colab": {
          "base_uri": "https://localhost:8080/"
        },
        "id": "5gjONCZ-gsAK",
        "outputId": "90f5d544-ecaa-4b1e-9436-e3f976416dca"
      },
      "id": "5gjONCZ-gsAK",
      "execution_count": 1,
      "outputs": [
        {
          "output_type": "stream",
          "name": "stdout",
          "text": [
            "Collecting spellpy\n",
            "  Downloading spellpy-0.0.9-py3-none-any.whl (19 kB)\n",
            "Requirement already satisfied: pandas in /usr/local/lib/python3.10/dist-packages (from spellpy) (1.5.3)\n",
            "Requirement already satisfied: python-dateutil>=2.8.1 in /usr/local/lib/python3.10/dist-packages (from pandas->spellpy) (2.8.2)\n",
            "Requirement already satisfied: pytz>=2020.1 in /usr/local/lib/python3.10/dist-packages (from pandas->spellpy) (2023.3.post1)\n",
            "Requirement already satisfied: numpy>=1.21.0 in /usr/local/lib/python3.10/dist-packages (from pandas->spellpy) (1.23.5)\n",
            "Requirement already satisfied: six>=1.5 in /usr/local/lib/python3.10/dist-packages (from python-dateutil>=2.8.1->pandas->spellpy) (1.16.0)\n",
            "Installing collected packages: spellpy\n",
            "Successfully installed spellpy-0.0.9\n"
          ]
        }
      ]
    },
    {
      "cell_type": "code",
      "execution_count": 2,
      "id": "10055469",
      "metadata": {
        "id": "10055469"
      },
      "outputs": [],
      "source": [
        "import os\n",
        "import sys\n",
        "import logging\n",
        "import pandas as pd\n",
        "from spellpy import spell\n",
        "from sklearn.model_selection import train_test_split"
      ]
    },
    {
      "cell_type": "code",
      "execution_count": 5,
      "id": "ebbabbc6",
      "metadata": {
        "id": "ebbabbc6"
      },
      "outputs": [],
      "source": [
        "input_dir = \"./data/banking_simulation\"\n",
        "output_dir = \"./data/banking_simulation/result\"\n",
        "\n",
        "# 2023-11-03 01:46:40 - IP: 152.237.212.155 - Location: Berlin, Germany - Device ID: D7487C - User: ryan - Failed login attempt from user ryan.\n",
        "log_format = \"<Date> <Time> - IP: <IP> - Location: <Location> - Device ID: <DeviceID> - User: <User> - <Content>\"\n",
        "log_main = \"banking_simulation\"\n",
        "tau = 0.5\n",
        "\n",
        "def preprocess():\n",
        "    parser = spell.LogParser(\n",
        "        indir=input_dir,\n",
        "        outdir=output_dir,\n",
        "        log_format=log_format,\n",
        "        logmain=log_main,\n",
        "        tau=tau\n",
        "    )\n",
        "\n",
        "    if not os.path.exists(output_dir):\n",
        "        os.makedirs(output_dir)\n",
        "\n",
        "    log_files = [\n",
        "        'banking_simulation_normal.log',\n",
        "        'banking_simulation_abnormal.log'\n",
        "    ]\n",
        "    for log_name in log_files:\n",
        "        parser.parse(log_name)\n",
        "\n",
        "    df_normal = pd.read_csv(f'{output_dir}/banking_simulation_normal.log_structured.csv')\n",
        "    df_abnormal = pd.read_csv(f'{output_dir}/banking_simulation_abnormal.log_structured.csv')\n",
        "\n",
        "    return df_normal, df_abnormal\n",
        "\n",
        "df_normal, df_abnormal = preprocess()"
      ]
    },
    {
      "cell_type": "code",
      "execution_count": 6,
      "id": "9446321c",
      "metadata": {
        "colab": {
          "base_uri": "https://localhost:8080/",
          "height": 206
        },
        "id": "9446321c",
        "outputId": "9c8ea9d2-1e5a-4261-9e85-598b2bb63590"
      },
      "outputs": [
        {
          "output_type": "execute_result",
          "data": {
            "text/plain": [
              "   LineId      Date                 Time               IP         Location  \\\n",
              "0       1     INFO:  2023-11-09 00:40:41   125.185.177.95  Berlin, Germany   \n",
              "1       2     INFO:  2023-11-09 00:40:41      65.4.98.176    New York, USA   \n",
              "2       3  WARNING:  2023-11-09 00:40:41    71.194.191.10     Tokyo, Japan   \n",
              "3       4     INFO:  2023-11-09 00:40:41  186.119.229.225    New York, USA   \n",
              "4       5     INFO:  2023-11-09 00:45:41      65.4.98.176    New York, USA   \n",
              "\n",
              "  DeviceID   User                                            Content  \\\n",
              "0   D86D92  aiden  Server status: Service interruption in progres...   \n",
              "1   475C29  aiden              Failed login attempt from user aiden.   \n",
              "2   C3A664  aiden                            Memory usage: 86% used.   \n",
              "3   76AE17  aiden                     CPU utilization: 28% utilized.   \n",
              "4   475C29  aiden          Successful login attempt from user aiden.   \n",
              "\n",
              "    EventId                                      EventTemplate  \\\n",
              "0  8c6357bd  Server status Service interruption in progress...   \n",
              "1  6e63e1cc                    <*> login attempt from user <*>   \n",
              "2  a0f90bd7                             Memory usage <*> used.   \n",
              "3  39075140                      CPU utilization <*> utilized.   \n",
              "4  6e63e1cc                    <*> login attempt from user <*>   \n",
              "\n",
              "             ParameterList  \n",
              "0                       []  \n",
              "1      ['Failed', 'aiden']  \n",
              "2                  ['86%']  \n",
              "3                  ['28%']  \n",
              "4  ['Successful', 'aiden']  "
            ],
            "text/html": [
              "\n",
              "  <div id=\"df-dfd8dd0c-c0f7-4d78-94c0-e764050ec8f1\" class=\"colab-df-container\">\n",
              "    <div>\n",
              "<style scoped>\n",
              "    .dataframe tbody tr th:only-of-type {\n",
              "        vertical-align: middle;\n",
              "    }\n",
              "\n",
              "    .dataframe tbody tr th {\n",
              "        vertical-align: top;\n",
              "    }\n",
              "\n",
              "    .dataframe thead th {\n",
              "        text-align: right;\n",
              "    }\n",
              "</style>\n",
              "<table border=\"1\" class=\"dataframe\">\n",
              "  <thead>\n",
              "    <tr style=\"text-align: right;\">\n",
              "      <th></th>\n",
              "      <th>LineId</th>\n",
              "      <th>Date</th>\n",
              "      <th>Time</th>\n",
              "      <th>IP</th>\n",
              "      <th>Location</th>\n",
              "      <th>DeviceID</th>\n",
              "      <th>User</th>\n",
              "      <th>Content</th>\n",
              "      <th>EventId</th>\n",
              "      <th>EventTemplate</th>\n",
              "      <th>ParameterList</th>\n",
              "    </tr>\n",
              "  </thead>\n",
              "  <tbody>\n",
              "    <tr>\n",
              "      <th>0</th>\n",
              "      <td>1</td>\n",
              "      <td>INFO:</td>\n",
              "      <td>2023-11-09 00:40:41</td>\n",
              "      <td>125.185.177.95</td>\n",
              "      <td>Berlin, Germany</td>\n",
              "      <td>D86D92</td>\n",
              "      <td>aiden</td>\n",
              "      <td>Server status: Service interruption in progres...</td>\n",
              "      <td>8c6357bd</td>\n",
              "      <td>Server status Service interruption in progress...</td>\n",
              "      <td>[]</td>\n",
              "    </tr>\n",
              "    <tr>\n",
              "      <th>1</th>\n",
              "      <td>2</td>\n",
              "      <td>INFO:</td>\n",
              "      <td>2023-11-09 00:40:41</td>\n",
              "      <td>65.4.98.176</td>\n",
              "      <td>New York, USA</td>\n",
              "      <td>475C29</td>\n",
              "      <td>aiden</td>\n",
              "      <td>Failed login attempt from user aiden.</td>\n",
              "      <td>6e63e1cc</td>\n",
              "      <td>&lt;*&gt; login attempt from user &lt;*&gt;</td>\n",
              "      <td>['Failed', 'aiden']</td>\n",
              "    </tr>\n",
              "    <tr>\n",
              "      <th>2</th>\n",
              "      <td>3</td>\n",
              "      <td>WARNING:</td>\n",
              "      <td>2023-11-09 00:40:41</td>\n",
              "      <td>71.194.191.10</td>\n",
              "      <td>Tokyo, Japan</td>\n",
              "      <td>C3A664</td>\n",
              "      <td>aiden</td>\n",
              "      <td>Memory usage: 86% used.</td>\n",
              "      <td>a0f90bd7</td>\n",
              "      <td>Memory usage &lt;*&gt; used.</td>\n",
              "      <td>['86%']</td>\n",
              "    </tr>\n",
              "    <tr>\n",
              "      <th>3</th>\n",
              "      <td>4</td>\n",
              "      <td>INFO:</td>\n",
              "      <td>2023-11-09 00:40:41</td>\n",
              "      <td>186.119.229.225</td>\n",
              "      <td>New York, USA</td>\n",
              "      <td>76AE17</td>\n",
              "      <td>aiden</td>\n",
              "      <td>CPU utilization: 28% utilized.</td>\n",
              "      <td>39075140</td>\n",
              "      <td>CPU utilization &lt;*&gt; utilized.</td>\n",
              "      <td>['28%']</td>\n",
              "    </tr>\n",
              "    <tr>\n",
              "      <th>4</th>\n",
              "      <td>5</td>\n",
              "      <td>INFO:</td>\n",
              "      <td>2023-11-09 00:45:41</td>\n",
              "      <td>65.4.98.176</td>\n",
              "      <td>New York, USA</td>\n",
              "      <td>475C29</td>\n",
              "      <td>aiden</td>\n",
              "      <td>Successful login attempt from user aiden.</td>\n",
              "      <td>6e63e1cc</td>\n",
              "      <td>&lt;*&gt; login attempt from user &lt;*&gt;</td>\n",
              "      <td>['Successful', 'aiden']</td>\n",
              "    </tr>\n",
              "  </tbody>\n",
              "</table>\n",
              "</div>\n",
              "    <div class=\"colab-df-buttons\">\n",
              "\n",
              "  <div class=\"colab-df-container\">\n",
              "    <button class=\"colab-df-convert\" onclick=\"convertToInteractive('df-dfd8dd0c-c0f7-4d78-94c0-e764050ec8f1')\"\n",
              "            title=\"Convert this dataframe to an interactive table.\"\n",
              "            style=\"display:none;\">\n",
              "\n",
              "  <svg xmlns=\"http://www.w3.org/2000/svg\" height=\"24px\" viewBox=\"0 -960 960 960\">\n",
              "    <path d=\"M120-120v-720h720v720H120Zm60-500h600v-160H180v160Zm220 220h160v-160H400v160Zm0 220h160v-160H400v160ZM180-400h160v-160H180v160Zm440 0h160v-160H620v160ZM180-180h160v-160H180v160Zm440 0h160v-160H620v160Z\"/>\n",
              "  </svg>\n",
              "    </button>\n",
              "\n",
              "  <style>\n",
              "    .colab-df-container {\n",
              "      display:flex;\n",
              "      gap: 12px;\n",
              "    }\n",
              "\n",
              "    .colab-df-convert {\n",
              "      background-color: #E8F0FE;\n",
              "      border: none;\n",
              "      border-radius: 50%;\n",
              "      cursor: pointer;\n",
              "      display: none;\n",
              "      fill: #1967D2;\n",
              "      height: 32px;\n",
              "      padding: 0 0 0 0;\n",
              "      width: 32px;\n",
              "    }\n",
              "\n",
              "    .colab-df-convert:hover {\n",
              "      background-color: #E2EBFA;\n",
              "      box-shadow: 0px 1px 2px rgba(60, 64, 67, 0.3), 0px 1px 3px 1px rgba(60, 64, 67, 0.15);\n",
              "      fill: #174EA6;\n",
              "    }\n",
              "\n",
              "    .colab-df-buttons div {\n",
              "      margin-bottom: 4px;\n",
              "    }\n",
              "\n",
              "    [theme=dark] .colab-df-convert {\n",
              "      background-color: #3B4455;\n",
              "      fill: #D2E3FC;\n",
              "    }\n",
              "\n",
              "    [theme=dark] .colab-df-convert:hover {\n",
              "      background-color: #434B5C;\n",
              "      box-shadow: 0px 1px 3px 1px rgba(0, 0, 0, 0.15);\n",
              "      filter: drop-shadow(0px 1px 2px rgba(0, 0, 0, 0.3));\n",
              "      fill: #FFFFFF;\n",
              "    }\n",
              "  </style>\n",
              "\n",
              "    <script>\n",
              "      const buttonEl =\n",
              "        document.querySelector('#df-dfd8dd0c-c0f7-4d78-94c0-e764050ec8f1 button.colab-df-convert');\n",
              "      buttonEl.style.display =\n",
              "        google.colab.kernel.accessAllowed ? 'block' : 'none';\n",
              "\n",
              "      async function convertToInteractive(key) {\n",
              "        const element = document.querySelector('#df-dfd8dd0c-c0f7-4d78-94c0-e764050ec8f1');\n",
              "        const dataTable =\n",
              "          await google.colab.kernel.invokeFunction('convertToInteractive',\n",
              "                                                    [key], {});\n",
              "        if (!dataTable) return;\n",
              "\n",
              "        const docLinkHtml = 'Like what you see? Visit the ' +\n",
              "          '<a target=\"_blank\" href=https://colab.research.google.com/notebooks/data_table.ipynb>data table notebook</a>'\n",
              "          + ' to learn more about interactive tables.';\n",
              "        element.innerHTML = '';\n",
              "        dataTable['output_type'] = 'display_data';\n",
              "        await google.colab.output.renderOutput(dataTable, element);\n",
              "        const docLink = document.createElement('div');\n",
              "        docLink.innerHTML = docLinkHtml;\n",
              "        element.appendChild(docLink);\n",
              "      }\n",
              "    </script>\n",
              "  </div>\n",
              "\n",
              "\n",
              "<div id=\"df-fa7a6233-7883-4ca6-bdc5-e4b19ed904c1\">\n",
              "  <button class=\"colab-df-quickchart\" onclick=\"quickchart('df-fa7a6233-7883-4ca6-bdc5-e4b19ed904c1')\"\n",
              "            title=\"Suggest charts\"\n",
              "            style=\"display:none;\">\n",
              "\n",
              "<svg xmlns=\"http://www.w3.org/2000/svg\" height=\"24px\"viewBox=\"0 0 24 24\"\n",
              "     width=\"24px\">\n",
              "    <g>\n",
              "        <path d=\"M19 3H5c-1.1 0-2 .9-2 2v14c0 1.1.9 2 2 2h14c1.1 0 2-.9 2-2V5c0-1.1-.9-2-2-2zM9 17H7v-7h2v7zm4 0h-2V7h2v10zm4 0h-2v-4h2v4z\"/>\n",
              "    </g>\n",
              "</svg>\n",
              "  </button>\n",
              "\n",
              "<style>\n",
              "  .colab-df-quickchart {\n",
              "      --bg-color: #E8F0FE;\n",
              "      --fill-color: #1967D2;\n",
              "      --hover-bg-color: #E2EBFA;\n",
              "      --hover-fill-color: #174EA6;\n",
              "      --disabled-fill-color: #AAA;\n",
              "      --disabled-bg-color: #DDD;\n",
              "  }\n",
              "\n",
              "  [theme=dark] .colab-df-quickchart {\n",
              "      --bg-color: #3B4455;\n",
              "      --fill-color: #D2E3FC;\n",
              "      --hover-bg-color: #434B5C;\n",
              "      --hover-fill-color: #FFFFFF;\n",
              "      --disabled-bg-color: #3B4455;\n",
              "      --disabled-fill-color: #666;\n",
              "  }\n",
              "\n",
              "  .colab-df-quickchart {\n",
              "    background-color: var(--bg-color);\n",
              "    border: none;\n",
              "    border-radius: 50%;\n",
              "    cursor: pointer;\n",
              "    display: none;\n",
              "    fill: var(--fill-color);\n",
              "    height: 32px;\n",
              "    padding: 0;\n",
              "    width: 32px;\n",
              "  }\n",
              "\n",
              "  .colab-df-quickchart:hover {\n",
              "    background-color: var(--hover-bg-color);\n",
              "    box-shadow: 0 1px 2px rgba(60, 64, 67, 0.3), 0 1px 3px 1px rgba(60, 64, 67, 0.15);\n",
              "    fill: var(--button-hover-fill-color);\n",
              "  }\n",
              "\n",
              "  .colab-df-quickchart-complete:disabled,\n",
              "  .colab-df-quickchart-complete:disabled:hover {\n",
              "    background-color: var(--disabled-bg-color);\n",
              "    fill: var(--disabled-fill-color);\n",
              "    box-shadow: none;\n",
              "  }\n",
              "\n",
              "  .colab-df-spinner {\n",
              "    border: 2px solid var(--fill-color);\n",
              "    border-color: transparent;\n",
              "    border-bottom-color: var(--fill-color);\n",
              "    animation:\n",
              "      spin 1s steps(1) infinite;\n",
              "  }\n",
              "\n",
              "  @keyframes spin {\n",
              "    0% {\n",
              "      border-color: transparent;\n",
              "      border-bottom-color: var(--fill-color);\n",
              "      border-left-color: var(--fill-color);\n",
              "    }\n",
              "    20% {\n",
              "      border-color: transparent;\n",
              "      border-left-color: var(--fill-color);\n",
              "      border-top-color: var(--fill-color);\n",
              "    }\n",
              "    30% {\n",
              "      border-color: transparent;\n",
              "      border-left-color: var(--fill-color);\n",
              "      border-top-color: var(--fill-color);\n",
              "      border-right-color: var(--fill-color);\n",
              "    }\n",
              "    40% {\n",
              "      border-color: transparent;\n",
              "      border-right-color: var(--fill-color);\n",
              "      border-top-color: var(--fill-color);\n",
              "    }\n",
              "    60% {\n",
              "      border-color: transparent;\n",
              "      border-right-color: var(--fill-color);\n",
              "    }\n",
              "    80% {\n",
              "      border-color: transparent;\n",
              "      border-right-color: var(--fill-color);\n",
              "      border-bottom-color: var(--fill-color);\n",
              "    }\n",
              "    90% {\n",
              "      border-color: transparent;\n",
              "      border-bottom-color: var(--fill-color);\n",
              "    }\n",
              "  }\n",
              "</style>\n",
              "\n",
              "  <script>\n",
              "    async function quickchart(key) {\n",
              "      const quickchartButtonEl =\n",
              "        document.querySelector('#' + key + ' button');\n",
              "      quickchartButtonEl.disabled = true;  // To prevent multiple clicks.\n",
              "      quickchartButtonEl.classList.add('colab-df-spinner');\n",
              "      try {\n",
              "        const charts = await google.colab.kernel.invokeFunction(\n",
              "            'suggestCharts', [key], {});\n",
              "      } catch (error) {\n",
              "        console.error('Error during call to suggestCharts:', error);\n",
              "      }\n",
              "      quickchartButtonEl.classList.remove('colab-df-spinner');\n",
              "      quickchartButtonEl.classList.add('colab-df-quickchart-complete');\n",
              "    }\n",
              "    (() => {\n",
              "      let quickchartButtonEl =\n",
              "        document.querySelector('#df-fa7a6233-7883-4ca6-bdc5-e4b19ed904c1 button');\n",
              "      quickchartButtonEl.style.display =\n",
              "        google.colab.kernel.accessAllowed ? 'block' : 'none';\n",
              "    })();\n",
              "  </script>\n",
              "</div>\n",
              "    </div>\n",
              "  </div>\n"
            ]
          },
          "metadata": {},
          "execution_count": 6
        }
      ],
      "source": [
        "df_normal.head()"
      ]
    },
    {
      "cell_type": "code",
      "execution_count": 7,
      "id": "5b18df4b",
      "metadata": {
        "colab": {
          "base_uri": "https://localhost:8080/"
        },
        "id": "5b18df4b",
        "outputId": "c0ade08b-ca94-4957-ce38-ccfc3e008050"
      },
      "outputs": [
        {
          "output_type": "execute_result",
          "data": {
            "text/plain": [
              "(85447, 11)"
            ]
          },
          "metadata": {},
          "execution_count": 7
        }
      ],
      "source": [
        "df_normal.shape"
      ]
    },
    {
      "cell_type": "code",
      "execution_count": 8,
      "id": "a66265a6",
      "metadata": {
        "colab": {
          "base_uri": "https://localhost:8080/"
        },
        "id": "a66265a6",
        "outputId": "2f05c727-12c3-4e83-c8d8-ecc53bb2e22a"
      },
      "outputs": [
        {
          "output_type": "execute_result",
          "data": {
            "text/plain": [
              "Memory usage <*> used.                                              11939\n",
              "CPU utilization <*> utilized.                                       11939\n",
              "Execution time Execution time <*> seconds.                          11939\n",
              "Disk space <*> free.                                                11327\n",
              "Successful <*> of <*> units.                                         8193\n",
              "Network activity <*> network <*>                                     7963\n",
              "<*> login attempt from user <*>                                      5620\n",
              "Server status <*> and <*>                                            4814\n",
              "Network activity Network congestion warning.                         3976\n",
              "Server status Service interruption in progress. Investigating...     2417\n",
              "Server status All systems are operational.                           2403\n",
              "Server status Minor issues detected but operational.                 2305\n",
              "Disk space Disk space critically low only <*> free.                   612\n",
              "Name: EventTemplate, dtype: int64"
            ]
          },
          "metadata": {},
          "execution_count": 8
        }
      ],
      "source": [
        "df_normal['EventTemplate'].value_counts()"
      ]
    },
    {
      "cell_type": "code",
      "execution_count": 9,
      "id": "15f438fd",
      "metadata": {
        "id": "15f438fd"
      },
      "outputs": [],
      "source": [
        "df_normal_train, df_normal_test = train_test_split(df_normal, test_size=0.2, shuffle=False)"
      ]
    },
    {
      "cell_type": "code",
      "execution_count": 10,
      "id": "3b5150ac",
      "metadata": {
        "colab": {
          "base_uri": "https://localhost:8080/"
        },
        "id": "3b5150ac",
        "outputId": "21185fa9-5aef-4fdc-f60a-04fd787e2294"
      },
      "outputs": [
        {
          "output_type": "stream",
          "name": "stdout",
          "text": [
            "Número de log keys únicos 13\n",
            "{'8c6357bd': 1, '6e63e1cc': 2, 'a0f90bd7': 3, '39075140': 4, 'e760a141': 5, '05d9848a': 6, 'a57ba91d': 7, '36c47a43': 8, 'f5727082': 9, 'a156c921': 10, '2ef54992': 11, '9399db72': 12, '1383d305': 13}\n",
            "CPU times: user 88.5 ms, sys: 3.1 ms, total: 91.6 ms\n",
            "Wall time: 91.6 ms\n"
          ]
        },
        {
          "output_type": "stream",
          "name": "stderr",
          "text": [
            "<timed exec>:10: SettingWithCopyWarning: \n",
            "A value is trying to be set on a copy of a slice from a DataFrame.\n",
            "Try using .loc[row_indexer,col_indexer] = value instead\n",
            "\n",
            "See the caveats in the documentation: https://pandas.pydata.org/pandas-docs/stable/user_guide/indexing.html#returning-a-view-versus-a-copy\n",
            "<timed exec>:10: SettingWithCopyWarning: \n",
            "A value is trying to be set on a copy of a slice from a DataFrame.\n",
            "Try using .loc[row_indexer,col_indexer] = value instead\n",
            "\n",
            "See the caveats in the documentation: https://pandas.pydata.org/pandas-docs/stable/user_guide/indexing.html#returning-a-view-versus-a-copy\n",
            "<timed exec>:10: SettingWithCopyWarning: \n",
            "A value is trying to be set on a copy of a slice from a DataFrame.\n",
            "Try using .loc[row_indexer,col_indexer] = value instead\n",
            "\n",
            "See the caveats in the documentation: https://pandas.pydata.org/pandas-docs/stable/user_guide/indexing.html#returning-a-view-versus-a-copy\n"
          ]
        }
      ],
      "source": [
        "%%time\n",
        "# def group_logs_by_datetime(df, event_id_map):\n",
        "#     df[\"Datetime\"] = pd.to_datetime(df[\"Date\"] + \" \" + df[\"Time\"])\n",
        "#     df = df[[\"Datetime\", \"EventId\"]]\n",
        "#     df[\"EventId\"] = df[\"EventId\"].apply(lambda e: event_id_map[e] if event_id_map.get(e) else -1)\n",
        "#     deeplog_df = df.set_index(\"Datetime\").resample(\"1min\").apply(lambda arr: list(arr)).reset_index()\n",
        "#     return deeplog_df\n",
        "\n",
        "def group_by_user(df, event_id_map):\n",
        "    df = df[[\"User\", \"EventId\"]]\n",
        "    df[\"EventId\"] = df[\"EventId\"].apply(lambda e: event_id_map[e] if event_id_map.get(e) else -1)\n",
        "    deeplog_df = df.groupby('User')['EventId'].agg(list).reset_index()\n",
        "    return deeplog_df\n",
        "\n",
        "def save_deeplog_df(filename, df):\n",
        "    with open(filename, \"w\") as f:\n",
        "        for event_id_list in df[\"EventId\"]:\n",
        "            for event_id in event_id_list:\n",
        "                f.write(str(event_id) + \" \")\n",
        "            f.write(\"\\n\")\n",
        "\n",
        "def generate_log_key_sequences(df_normal_train, df_normal_test, df_abnormal):\n",
        "    event_id_map = {}\n",
        "    for index, event_id in enumerate(df_normal_train[\"EventId\"].unique(), 1):\n",
        "        event_id_map[event_id] = index\n",
        "\n",
        "    print(f\"Número de log keys únicos {len(event_id_map)}\")\n",
        "\n",
        "    print(event_id_map)\n",
        "    deeplog_train_df = group_by_user(df_normal_train, event_id_map)\n",
        "    save_deeplog_df(\"train\", deeplog_train_df)\n",
        "\n",
        "    deeplog_test_normal = group_by_user(df_normal_test, event_id_map)\n",
        "    save_deeplog_df(\"test_normal\", deeplog_test_normal)\n",
        "\n",
        "    deeplog_test_abnormal = group_by_user(df_abnormal, event_id_map)\n",
        "    save_deeplog_df(\"test_abnormal\", deeplog_test_abnormal)\n",
        "\n",
        "generate_log_key_sequences(df_normal_train, df_normal_test, df_abnormal)"
      ]
    },
    {
      "cell_type": "code",
      "execution_count": 11,
      "id": "c7b8d165",
      "metadata": {
        "id": "c7b8d165"
      },
      "outputs": [],
      "source": [
        "import json\n",
        "\n",
        "import torch\n",
        "import torch.distributed as dist\n",
        "import torch.nn as nn\n",
        "import torch.optim as optim\n",
        "from torch.utils.data import TensorDataset, DataLoader\n",
        "\n",
        "NUM_CLASSES = 13\n",
        "NUM_CANDIDATES = 5\n",
        "EPOCHS = 20\n",
        "WINDOW_SIZE =  3\n",
        "BATCH_SIZE = 64\n",
        "SEED = 1\n",
        "\n",
        "INPUT_SIZE = 1\n",
        "HIDDEN_SIZE = 64\n",
        "NUM_LAYERS = 2"
      ]
    },
    {
      "cell_type": "code",
      "execution_count": 12,
      "id": "2751d5ed",
      "metadata": {
        "id": "2751d5ed"
      },
      "outputs": [],
      "source": [
        "class Generate:\n",
        "    def __init__(self):\n",
        "        self.file = None\n",
        "\n",
        "    def generate(self, filename, window_size):\n",
        "        num_sessions = 0\n",
        "        inputs = []\n",
        "        outputs = []\n",
        "\n",
        "        line = self.init_line(filename)\n",
        "        while line:\n",
        "            line = tuple(map(lambda n: n - 1, map(int, line.strip().split())))\n",
        "            for i in range(len(line) - window_size):\n",
        "                inputs.append(line[i:i+window_size])\n",
        "                outputs.append(line[i+window_size])\n",
        "            line = self.readline()\n",
        "            num_sessions += 1\n",
        "\n",
        "        print('Number of session({}): {}'.format(filename, len(inputs)))\n",
        "        print('Number of seqs({}): {}'.format(filename, len(inputs)))\n",
        "\n",
        "        dataset = TensorDataset(torch.tensor(inputs, dtype=torch.float), torch.tensor(outputs))\n",
        "\n",
        "        return dataset\n",
        "\n",
        "    def init_line(self, filename):\n",
        "        f = open(filename, 'r')\n",
        "        self.file = f\n",
        "        line = self.file.readline()\n",
        "        return line\n",
        "\n",
        "    def readline(self):\n",
        "        line = self.file.readline()\n",
        "        return line\n",
        "\n",
        "def get_train_data_loader():\n",
        "    print(\"Get train data loader\")\n",
        "    generate = Generate()\n",
        "    sequence_dataset = generate.generate(filename=\"train\", window_size=WINDOW_SIZE)\n",
        "    dataloader = DataLoader(sequence_dataset, batch_size=BATCH_SIZE, shuffle=None, sampler=None)\n",
        "    return dataloader\n",
        "\n",
        "\n",
        "def save_model(model, model_dir):\n",
        "    print(\"Saving the model.\")\n",
        "    path = os.path.join(model_dir, 'model.pth')\n",
        "    torch.save(model.cpu().state_dict(), path)\n",
        "    model_info_path = os.path.join(model_dir, 'model_info.pth')\n",
        "    with open(model_info_path, 'wb') as f:\n",
        "        model_info = {\n",
        "            'input_size': INPUT_SIZE,\n",
        "            'hidden_size': HIDDEN_SIZE,\n",
        "            'num_layers': NUM_LAYERS,\n",
        "            'num_classes': NUM_CLASSES,\n",
        "            'num_candidates': NUM_CANDIDATES,\n",
        "            'window_size': WINDOW_SIZE,\n",
        "        }\n",
        "        torch.save(model_info, f)"
      ]
    },
    {
      "cell_type": "code",
      "execution_count": 13,
      "id": "86fd63ff",
      "metadata": {
        "id": "86fd63ff"
      },
      "outputs": [],
      "source": [
        "device = torch.device(\"cuda:0\" if torch.cuda.is_available() else 'cpu')"
      ]
    },
    {
      "cell_type": "code",
      "execution_count": 14,
      "id": "8543df57",
      "metadata": {
        "id": "8543df57"
      },
      "outputs": [],
      "source": [
        "class Model(nn.Module):\n",
        "    def __init__(self, input_size, hidden_size, num_layers, num_classes):\n",
        "        super(Model, self).__init__()\n",
        "        self.hidden_size = hidden_size\n",
        "        self.num_layers = num_layers\n",
        "        self.lstm = nn.LSTM(input_size, hidden_size, num_layers, batch_first=True)\n",
        "        self.fc = nn.Linear(hidden_size, num_classes)\n",
        "\n",
        "    def forward(self, input):\n",
        "        h0 = torch.zeros(self.num_layers, input.size(0), self.hidden_size).to(input.device)\n",
        "        c0 = torch.zeros(self.num_layers, input.size(0), self.hidden_size).to(input.device)\n",
        "        out, _ = self.lstm(input, (h0, c0))\n",
        "        out = self.fc(out[:, -1, :])\n",
        "        return out"
      ]
    },
    {
      "cell_type": "code",
      "execution_count": 15,
      "id": "8e888d7a",
      "metadata": {
        "colab": {
          "base_uri": "https://localhost:8080/"
        },
        "id": "8e888d7a",
        "outputId": "3bae0a6a-ddd0-45b8-fe31-318713255725"
      },
      "outputs": [
        {
          "output_type": "stream",
          "name": "stdout",
          "text": [
            "Get train data loader\n",
            "Number of session(train): 68216\n",
            "Number of seqs(train): 68216\n",
            "processed 68216/68216 (100%) of traind data\n",
            "Epoch [1/20], Train_loss: 0.0204\n",
            "Epoch [2/20], Train_loss: 0.0131\n",
            "Epoch [3/20], Train_loss: 0.012\n",
            "Epoch [4/20], Train_loss: 0.0116\n",
            "Epoch [5/20], Train_loss: 0.0114\n",
            "Epoch [6/20], Train_loss: 0.0113\n",
            "Epoch [7/20], Train_loss: 0.0113\n",
            "Epoch [8/20], Train_loss: 0.0112\n",
            "Epoch [9/20], Train_loss: 0.0112\n",
            "Epoch [10/20], Train_loss: 0.0112\n",
            "Epoch [11/20], Train_loss: 0.0111\n",
            "Epoch [12/20], Train_loss: 0.0111\n",
            "Epoch [13/20], Train_loss: 0.0111\n",
            "Epoch [14/20], Train_loss: 0.0111\n",
            "Epoch [15/20], Train_loss: 0.0111\n",
            "Epoch [16/20], Train_loss: 0.0111\n",
            "Epoch [17/20], Train_loss: 0.0111\n",
            "Epoch [18/20], Train_loss: 0.0111\n",
            "Epoch [19/20], Train_loss: 0.0111\n",
            "Epoch [20/20], Train_loss: 0.0111\n",
            "Finished Training\n",
            "CPU times: user 56.7 s, sys: 2.25 s, total: 58.9 s\n",
            "Wall time: 1min 6s\n"
          ]
        }
      ],
      "source": [
        "%%time\n",
        "torch.manual_seed(SEED)\n",
        "train_loader = get_train_data_loader()\n",
        "\n",
        "print(\"processed {}/{} ({:.0f}%) of traind data\".format(\n",
        "    len(train_loader.sampler), len(train_loader.dataset),\n",
        "    100. * len(train_loader.sampler) / len(train_loader.dataset)\n",
        "))\n",
        "\n",
        "model = Model(INPUT_SIZE, HIDDEN_SIZE, NUM_LAYERS, NUM_CLASSES).to(device)\n",
        "criterion = nn.CrossEntropyLoss()\n",
        "optimizer = optim.Adam(model.parameters())\n",
        "\n",
        "for epoch in range(1, EPOCHS + 1):\n",
        "    model.train()\n",
        "    train_loss = 0\n",
        "    for seq, label in train_loader:\n",
        "        seq = seq.clone().detach().view(-1, WINDOW_SIZE, INPUT_SIZE).to(device)\n",
        "        optimizer.zero_grad()\n",
        "        output = model(seq)\n",
        "        loss = criterion(output, label.to(device))\n",
        "        loss.backward()\n",
        "        optimizer.step()\n",
        "        train_loss += loss.item()\n",
        "    print('Epoch [{}/{}], Train_loss: {}'.format(\n",
        "        epoch, EPOCHS, round(train_loss/len(train_loader.dataset), 4)\n",
        "    ))\n",
        "\n",
        "print('Finished Training')"
      ]
    },
    {
      "cell_type": "code",
      "execution_count": 16,
      "id": "42ea1aa8",
      "metadata": {
        "id": "42ea1aa8"
      },
      "outputs": [],
      "source": [
        "!mkdir model"
      ]
    },
    {
      "cell_type": "code",
      "execution_count": 17,
      "id": "11c26b8c",
      "metadata": {
        "colab": {
          "base_uri": "https://localhost:8080/"
        },
        "id": "11c26b8c",
        "outputId": "fb5e0535-c9f2-40c4-c745-0b1b3f5507c8"
      },
      "outputs": [
        {
          "output_type": "execute_result",
          "data": {
            "text/plain": [
              "Model(\n",
              "  (lstm): LSTM(1, 64, num_layers=2, batch_first=True)\n",
              "  (fc): Linear(in_features=64, out_features=13, bias=True)\n",
              ")"
            ]
          },
          "metadata": {},
          "execution_count": 17
        }
      ],
      "source": [
        "model"
      ]
    },
    {
      "cell_type": "code",
      "execution_count": 18,
      "id": "ba10e954",
      "metadata": {
        "colab": {
          "base_uri": "https://localhost:8080/"
        },
        "id": "ba10e954",
        "outputId": "a609e6c0-828d-4227-be4d-e1cb99adc634"
      },
      "outputs": [
        {
          "output_type": "stream",
          "name": "stdout",
          "text": [
            "Saving the model.\n"
          ]
        }
      ],
      "source": [
        "save_model(model, 'model')"
      ]
    },
    {
      "cell_type": "markdown",
      "id": "8ed77a57",
      "metadata": {
        "id": "8ed77a57"
      },
      "source": [
        "## Prediccion"
      ]
    },
    {
      "cell_type": "code",
      "execution_count": 19,
      "id": "95477284",
      "metadata": {
        "id": "95477284"
      },
      "outputs": [],
      "source": [
        "def load_model(model_dir):\n",
        "    print(\"Loading the model.\")\n",
        "\n",
        "    model_info = {}\n",
        "    with open(os.path.join(model_dir, \"model_info.pth\"), \"rb\") as f:\n",
        "        model_info = torch.load(f)\n",
        "\n",
        "    print(\"model_info: {}\".format(model_info))\n",
        "\n",
        "    device = torch.device(\"cuda\" if torch.cuda.is_available() else \"cpu\")\n",
        "    print(\"Current device: {}\".format(device))\n",
        "\n",
        "    model = Model(\n",
        "        input_size=model_info[\"input_size\"],\n",
        "        hidden_size=model_info[\"hidden_size\"],\n",
        "        num_layers=model_info[\"num_layers\"],\n",
        "        num_classes=model_info[\"num_classes\"],\n",
        "    )\n",
        "\n",
        "    with open(os.path.join(model_dir, \"model.pth\"), \"rb\") as f:\n",
        "        model.load_state_dict(torch.load(f))\n",
        "\n",
        "    return {\n",
        "        \"model\": model.to(device),\n",
        "        \"window_size\": model_info[\"window_size\"],\n",
        "        \"input_size\": model_info[\"input_size\"],\n",
        "        \"num_candidates\": model_info[\"num_candidates\"]\n",
        "    }\n",
        "\n",
        "def predict(input_data, model_info):\n",
        "    line = input_data['line']\n",
        "    num_candidates = model_info['num_candidates']\n",
        "    input_size = model_info['input_size']\n",
        "    window_size = model_info['window_size']\n",
        "    model = model_info['model']\n",
        "\n",
        "    device = torch.device(\"cuda\" if torch.cuda.is_available() else \"cpu\")\n",
        "\n",
        "    predict_cnt = 0\n",
        "    anomaly_cnt = 0\n",
        "    predict_list = [0] * len(line)\n",
        "    for i in range(len(line) - window_size):\n",
        "        seq = line[i:i + window_size]\n",
        "        label = line[i + window_size]\n",
        "        seq = torch.tensor(seq, dtype=torch.float).view(-1, window_size, input_size).to(device)\n",
        "        label = torch.tensor(label).view(-1).to(device)\n",
        "        output = model(seq)\n",
        "        predict = torch.argsort(output, 1)[0][-num_candidates:]\n",
        "        if label not in predict:\n",
        "            anomaly_cnt += 1\n",
        "            predict_list[i + window_size] = 1\n",
        "            predict_cnt += 1\n",
        "    return {'anomaly_cnt': anomaly_cnt, 'predict_cnt': predict_cnt, 'predict_list': predict_list}"
      ]
    },
    {
      "cell_type": "code",
      "execution_count": 20,
      "id": "e46155b2",
      "metadata": {
        "colab": {
          "base_uri": "https://localhost:8080/"
        },
        "id": "e46155b2",
        "outputId": "c19fc8bf-bebe-4a5c-ea5d-203cbd05961d"
      },
      "outputs": [
        {
          "output_type": "stream",
          "name": "stdout",
          "text": [
            "Loading the model.\n",
            "model_info: {'input_size': 1, 'hidden_size': 64, 'num_layers': 2, 'num_classes': 13, 'num_candidates': 5, 'window_size': 3}\n",
            "Current device: cuda\n",
            "CPU times: user 12.7 s, sys: 30.5 ms, total: 12.7 s\n",
            "Wall time: 12.8 s\n"
          ]
        }
      ],
      "source": [
        "%%time\n",
        "model_info = load_model(\"./model\")\n",
        "test_abnormal_list = []\n",
        "with open('test_abnormal', 'r') as f:\n",
        "    for line in f.readlines():\n",
        "        line = list(map(lambda n: n - 1, map(int, line.strip().split())))\n",
        "        response = predict(json.loads(json.dumps({\"line\": line})), model_info)\n",
        "        test_abnormal_list.append(response)\n",
        "\n",
        "test_normal_list = []\n",
        "with open('test_normal', 'r') as f:\n",
        "    for line in f.readlines():\n",
        "        line = list(map(lambda n: n - 1, map(int, line.strip().split())))\n",
        "        response = predict(json.loads(json.dumps({\"line\": line})), model_info)\n",
        "        test_normal_list.append(response)"
      ]
    },
    {
      "cell_type": "code",
      "execution_count": 21,
      "id": "a0078a79",
      "metadata": {
        "colab": {
          "base_uri": "https://localhost:8080/"
        },
        "id": "a0078a79",
        "outputId": "f4e8fdfb-fd77-48a7-cd74-250d765c2308"
      },
      "outputs": [
        {
          "output_type": "stream",
          "name": "stdout",
          "text": [
            "thres: 5\n",
            "TP: 45\n",
            "FP: 21\n",
            "TN: 26\n",
            "FN: 2\n",
            "accuracy: 0.7553191489361702\n",
            "Precision: 0.6818181818181818\n",
            "Recall: 0.9574468085106383\n",
            "F1: 0.7964601769911505\n",
            "CPU times: user 3.24 ms, sys: 26 µs, total: 3.27 ms\n",
            "Wall time: 6.86 ms\n"
          ]
        }
      ],
      "source": [
        "%%time\n",
        "threshold = 5\n",
        "abnormal_has_anomaly = [1 if t[\"anomaly_cnt\"] > threshold else 0 for t in test_abnormal_list]\n",
        "abnormal_cnt_anomaly = [t[\"anomaly_cnt\"] for t in test_abnormal_list]\n",
        "abnormal_predict = []\n",
        "for test_abnormal in test_abnormal_list:\n",
        "    abnormal_predict += test_abnormal[\"predict_list\"]\n",
        "\n",
        "normal_has_anomaly = [1 if t['anomaly_cnt'] > threshold else 0 for t in test_normal_list]\n",
        "normal_cnt_anomaly = [t['anomaly_cnt'] for t in test_normal_list]\n",
        "normal_predict = []\n",
        "for test_normal in test_normal_list:\n",
        "    normal_predict += test_normal['predict_list']\n",
        "\n",
        "ground_truth = [1]*len(abnormal_has_anomaly) + [0]*len(normal_has_anomaly)\n",
        "predict = abnormal_has_anomaly + normal_has_anomaly\n",
        "TP = 0\n",
        "FP = 0\n",
        "TN = 0\n",
        "FN = 0\n",
        "accu = 0\n",
        "for p, t in zip(predict, ground_truth):\n",
        "    if p == t:\n",
        "        accu += 1\n",
        "\n",
        "    if p == 1 and t == 1:\n",
        "        TP += 1\n",
        "    elif p == 1 and t == 0:\n",
        "        FP += 1\n",
        "    elif p == 0 and t == 1:\n",
        "        FN += 1\n",
        "    else:\n",
        "        TN += 1\n",
        "\n",
        "print(f'thres: {threshold}')\n",
        "print(f'TP: {TP}')\n",
        "print(f'FP: {FP}')\n",
        "print(f'TN: {TN}')\n",
        "print(f'FN: {FN}')\n",
        "\n",
        "accuracy = accu / len(predict)\n",
        "precision = TP / (TP + FP) if (TP + FP) else 0\n",
        "recall = TP / (TP + FN) if (TP + FN) else 0\n",
        "F1 = 2 * precision * recall / (precision + recall) if (precision + recall) else 0\n",
        "\n",
        "print(f'accuracy: {accuracy}')\n",
        "print(f'Precision: {precision}')\n",
        "print(f'Recall: {recall}')\n",
        "print(f'F1: {F1}')"
      ]
    },
    {
      "cell_type": "code",
      "source": [],
      "metadata": {
        "id": "ho30vbZvhLLg"
      },
      "id": "ho30vbZvhLLg",
      "execution_count": null,
      "outputs": []
    }
  ],
  "metadata": {
    "kernelspec": {
      "display_name": "Python 3",
      "name": "python3"
    },
    "language_info": {
      "codemirror_mode": {
        "name": "ipython",
        "version": 3
      },
      "file_extension": ".py",
      "mimetype": "text/x-python",
      "name": "python",
      "nbconvert_exporter": "python",
      "pygments_lexer": "ipython3",
      "version": "3.9.16"
    },
    "colab": {
      "provenance": [],
      "gpuType": "T4"
    },
    "accelerator": "GPU"
  },
  "nbformat": 4,
  "nbformat_minor": 5
}